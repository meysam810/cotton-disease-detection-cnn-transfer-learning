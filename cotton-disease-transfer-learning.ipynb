{
 "cells": [
  {
   "cell_type": "markdown",
   "metadata": {},
   "source": [
    " link of the dataset : https://drive.google.com/drive/folders/1vdr9CC9ChYVW2iXp6PlfyMOGD-4Um1ue"
   ]
  },
  {
   "cell_type": "code",
   "execution_count": 1,
   "metadata": {},
   "outputs": [],
   "source": [
    "from tensorflow.keras.layers import Input, Lambda, Dense, Flatten\n",
    "from tensorflow.keras.models import Model\n",
    "from tensorflow.keras.applications.inception_v3 import InceptionV3\n",
    "from tensorflow.keras.applications.inception_v3 import preprocess_input\n",
    "from tensorflow.keras.preprocessing import image\n",
    "from tensorflow.keras.preprocessing.image import ImageDataGenerator,load_img\n",
    "from tensorflow.keras.models import Sequential\n",
    "import numpy as np\n",
    "from glob import glob"
   ]
  },
  {
   "cell_type": "code",
   "execution_count": 2,
   "metadata": {},
   "outputs": [],
   "source": [
    "IMAGE_SIZE = [224, 224]"
   ]
  },
  {
   "cell_type": "code",
   "execution_count": 3,
   "metadata": {},
   "outputs": [],
   "source": [
    "inception = InceptionV3(input_shape=IMAGE_SIZE + [3], weights='imagenet', include_top=False)"
   ]
  },
  {
   "cell_type": "code",
   "execution_count": 4,
   "metadata": {},
   "outputs": [],
   "source": [
    "for layer in inception.layers:\n",
    "    layer.trainable = False"
   ]
  },
  {
   "cell_type": "code",
   "execution_count": 13,
   "metadata": {},
   "outputs": [],
   "source": [
    "folders = glob('dataset/*')"
   ]
  },
  {
   "cell_type": "code",
   "execution_count": 14,
   "metadata": {},
   "outputs": [],
   "source": [
    "x = Flatten()(inception.output)"
   ]
  },
  {
   "cell_type": "code",
   "execution_count": 15,
   "metadata": {},
   "outputs": [],
   "source": [
    "prediction = Dense(len(folders), activation='softmax')(x)\n",
    "\n",
    "model = Model(inputs=inception.input, outputs=prediction)"
   ]
  },
  {
   "cell_type": "code",
   "execution_count": 16,
   "metadata": {},
   "outputs": [],
   "source": [
    "model.compile(\n",
    "  loss='categorical_crossentropy',\n",
    "  optimizer='adam',\n",
    "  metrics=['accuracy']\n",
    ")"
   ]
  },
  {
   "cell_type": "code",
   "execution_count": 17,
   "metadata": {},
   "outputs": [],
   "source": [
    "from tensorflow.keras.preprocessing.image import ImageDataGenerator"
   ]
  },
  {
   "cell_type": "code",
   "execution_count": 18,
   "metadata": {},
   "outputs": [],
   "source": [
    "train_datagen = ImageDataGenerator(rescale=1./255,\n",
    "    rotation_range=20,\n",
    " \tzoom_range=0.15,\n",
    " \theight_shift_range=0.2,\n",
    " \tshear_range=0.15,\n",
    " \thorizontal_flip=True,\n",
    "    validation_split=0.1)\n",
    "\n",
    "test_datagen = ImageDataGenerator(rescale=1./255) "
   ]
  },
  {
   "cell_type": "code",
   "execution_count": 19,
   "metadata": {},
   "outputs": [
    {
     "name": "stdout",
     "output_type": "stream",
     "text": [
      "Found 1773 images belonging to 4 classes.\n",
      "Found 196 images belonging to 4 classes.\n"
     ]
    }
   ],
   "source": [
    "train_generator = train_datagen.flow_from_directory(\n",
    "    'dataset',\n",
    "    target_size=(224, 224),\n",
    "    batch_size=32,\n",
    "    class_mode='categorical',\n",
    "    subset='training')\n",
    "\n",
    "\n",
    "validation_generator = train_datagen.flow_from_directory(\n",
    "    'dataset',\n",
    "    target_size=(224, 224),\n",
    "    batch_size=32,\n",
    "    class_mode='categorical',\n",
    "    subset='validation') "
   ]
  },
  {
   "cell_type": "code",
   "execution_count": 22,
   "metadata": {
    "scrolled": true
   },
   "outputs": [
    {
     "name": "stdout",
     "output_type": "stream",
     "text": [
      "Epoch 1/10\n",
      "56/56 [==============================] - 17s 303ms/step - loss: 0.7193 - accuracy: 0.9385 - val_loss: 1.1440 - val_accuracy: 0.9133\n",
      "Epoch 2/10\n",
      "56/56 [==============================] - 17s 296ms/step - loss: 0.5206 - accuracy: 0.9425 - val_loss: 2.9698 - val_accuracy: 0.8367\n",
      "Epoch 3/10\n",
      "56/56 [==============================] - 17s 295ms/step - loss: 0.8498 - accuracy: 0.9284 - val_loss: 1.3988 - val_accuracy: 0.8929\n",
      "Epoch 4/10\n",
      "56/56 [==============================] - 16s 293ms/step - loss: 0.7388 - accuracy: 0.9351 - val_loss: 2.2978 - val_accuracy: 0.8724\n",
      "Epoch 5/10\n",
      "56/56 [==============================] - 17s 296ms/step - loss: 0.6503 - accuracy: 0.9419 - val_loss: 1.8851 - val_accuracy: 0.8776\n",
      "Epoch 6/10\n",
      "56/56 [==============================] - 17s 299ms/step - loss: 0.9291 - accuracy: 0.9391 - val_loss: 1.1741 - val_accuracy: 0.9286\n",
      "Epoch 7/10\n",
      "56/56 [==============================] - 17s 299ms/step - loss: 0.9348 - accuracy: 0.9255 - val_loss: 1.6612 - val_accuracy: 0.8673\n",
      "Epoch 8/10\n",
      "56/56 [==============================] - 17s 297ms/step - loss: 0.6312 - accuracy: 0.9436 - val_loss: 2.0331 - val_accuracy: 0.8622\n",
      "Epoch 9/10\n",
      "56/56 [==============================] - 17s 307ms/step - loss: 0.6121 - accuracy: 0.9560 - val_loss: 3.3242 - val_accuracy: 0.8469\n",
      "Epoch 10/10\n",
      "56/56 [==============================] - 17s 297ms/step - loss: 0.4877 - accuracy: 0.9611 - val_loss: 1.5204 - val_accuracy: 0.9133\n"
     ]
    }
   ],
   "source": [
    "r = model.fit(\n",
    "  train_generator,\n",
    "  validation_data=validation_generator,\n",
    "  epochs=10,)"
   ]
  },
  {
   "cell_type": "code",
   "execution_count": 23,
   "metadata": {},
   "outputs": [],
   "source": [
    "import matplotlib.pyplot as plt"
   ]
  },
  {
   "cell_type": "code",
   "execution_count": 24,
   "metadata": {},
   "outputs": [
    {
     "data": {
      "image/png": "[encoded data removed]",
      "text/plain": [
       "<Figure size 640x480 with 1 Axes>"
      ]
     },
     "metadata": {},
     "output_type": "display_data"
    },
    {
     "data": {
      "image/png": "[encoded data removed]",
      "text/plain": [
       "<Figure size 640x480 with 1 Axes>"
      ]
     },
     "metadata": {},
     "output_type": "display_data"
    }
   ],
   "source": [
    "plt.plot(r.history['loss'], label='train loss')\n",
    "plt.plot(r.history['val_loss'], label='val loss')\n",
    "plt.legend()\n",
    "plt.show()\n",
    "plt.savefig('LossVal_loss')\n",
    "\n",
    "plt.plot(r.history['accuracy'], label='train acc')\n",
    "plt.plot(r.history['val_accuracy'], label='val acc')\n",
    "plt.legend()\n",
    "plt.show()\n",
    "plt.savefig('AccVal_acc')"
   ]
  },
  {
   "cell_type": "code",
   "execution_count": 25,
   "metadata": {},
   "outputs": [],
   "source": [
    "from tensorflow.keras.models import load_model\n",
    "\n",
    "model.save('model_inception.h5')"
   ]
  },
  {
   "cell_type": "code",
   "execution_count": 28,
   "metadata": {},
   "outputs": [],
   "source": [
    "y_pred = model.predict(validation_generator)"
   ]
  },
  {
   "cell_type": "code",
   "execution_count": 29,
   "metadata": {
    "collapsed": true,
    "jupyter": {
     "outputs_hidden": true
    },
    "tags": []
   },
   "outputs": [
    {
     "data": {
      "text/plain": [
       "array([[7.65866381e-33, 1.00000000e+00, 0.00000000e+00, 0.00000000e+00],\n",
       "       [3.07876344e-28, 1.00000000e+00, 3.94533744e-25, 4.66916523e-17],\n",
       "       [3.27703742e-06, 4.63360950e-04, 1.48823693e-01, 8.50709736e-01],\n",
       "       [1.53587119e-34, 9.99999762e-01, 3.18576785e-33, 2.02997427e-07],\n",
       "       [2.03605654e-28, 1.00000000e+00, 3.17209660e-29, 1.81493756e-36],\n",
       "       [7.17592106e-20, 1.00000000e+00, 6.91107395e-14, 6.05203428e-18],\n",
       "       [3.20204967e-31, 0.00000000e+00, 1.00000000e+00, 0.00000000e+00],\n",
       "       [1.00000000e+00, 0.00000000e+00, 0.00000000e+00, 0.00000000e+00],\n",
       "       [1.00000000e+00, 1.03225654e-20, 0.00000000e+00, 3.68297515e-33],\n",
       "       [4.09879305e-33, 4.37694898e-24, 0.00000000e+00, 1.00000000e+00],\n",
       "       [2.51879757e-24, 9.25018134e-31, 1.00000000e+00, 1.17893925e-31],\n",
       "       [3.79632211e-25, 1.00000000e+00, 9.48805720e-31, 7.29485786e-33],\n",
       "       [7.83728600e-01, 4.63205910e-25, 2.16271356e-01, 1.38514662e-33],\n",
       "       [1.02028824e-12, 6.75095293e-07, 1.68613356e-21, 9.99999285e-01],\n",
       "       [1.42129163e-38, 2.65903170e-31, 4.95812988e-22, 1.00000000e+00],\n",
       "       [3.51912563e-31, 1.00000000e+00, 4.59807178e-33, 7.95921716e-20],\n",
       "       [1.22721332e-23, 4.27811343e-34, 1.00000000e+00, 0.00000000e+00],\n",
       "       [1.76027434e-19, 0.00000000e+00, 1.00000000e+00, 0.00000000e+00],\n",
       "       [7.68300423e-10, 9.70727205e-01, 8.99188885e-29, 2.92728022e-02],\n",
       "       [9.99999881e-01, 1.87167348e-11, 1.20079704e-07, 2.74070771e-16],\n",
       "       [3.17628064e-25, 1.08078086e-20, 5.64116060e-25, 1.00000000e+00],\n",
       "       [3.24500754e-35, 1.00000000e+00, 0.00000000e+00, 9.23446483e-22],\n",
       "       [2.22148458e-13, 9.78026986e-01, 3.64732940e-12, 2.19729561e-02],\n",
       "       [2.66941837e-31, 1.00000000e+00, 0.00000000e+00, 3.13433686e-23],\n",
       "       [4.27644378e-29, 1.00000000e+00, 1.71440710e-28, 4.96471506e-15],\n",
       "       [6.71228475e-28, 1.00000000e+00, 1.24569010e-35, 1.75993890e-11],\n",
       "       [1.39521679e-15, 0.00000000e+00, 1.00000000e+00, 0.00000000e+00],\n",
       "       [1.83553101e-38, 2.92919782e-25, 8.04358324e-27, 1.00000000e+00],\n",
       "       [1.00000000e+00, 0.00000000e+00, 2.91573456e-30, 0.00000000e+00],\n",
       "       [2.06197523e-28, 1.00000000e+00, 0.00000000e+00, 9.05088463e-36],\n",
       "       [1.21309807e-09, 1.00000000e+00, 8.71813631e-22, 3.52205944e-20],\n",
       "       [3.65665054e-10, 0.00000000e+00, 1.00000000e+00, 7.15055000e-31],\n",
       "       [2.88395430e-22, 1.00000000e+00, 6.87562021e-31, 9.27617717e-26],\n",
       "       [1.31281722e-29, 1.00000000e+00, 8.64284639e-20, 1.31491453e-18],\n",
       "       [5.36183291e-16, 6.84098126e-24, 9.99779165e-01, 2.20885660e-04],\n",
       "       [4.14256306e-29, 0.00000000e+00, 1.00000000e+00, 2.40522213e-10],\n",
       "       [4.51167333e-30, 1.00000000e+00, 2.68895881e-24, 6.54843377e-24],\n",
       "       [1.33109998e-25, 2.54867347e-31, 1.00000000e+00, 1.67376224e-26],\n",
       "       [0.00000000e+00, 1.00000000e+00, 0.00000000e+00, 2.44616013e-38],\n",
       "       [1.97828120e-37, 1.00000000e+00, 0.00000000e+00, 5.09423898e-20],\n",
       "       [1.00000000e+00, 0.00000000e+00, 9.30201409e-25, 0.00000000e+00],\n",
       "       [1.98576580e-30, 0.00000000e+00, 1.00000000e+00, 1.70918054e-31],\n",
       "       [2.03700234e-11, 8.04186932e-26, 1.00000000e+00, 3.06658082e-38],\n",
       "       [8.07508468e-26, 1.94485187e-06, 5.49428192e-09, 9.99998093e-01],\n",
       "       [7.72770998e-20, 1.00000000e+00, 6.34208538e-27, 3.49174585e-20],\n",
       "       [3.38550895e-32, 1.00000000e+00, 6.74442547e-26, 1.10646559e-09],\n",
       "       [1.37609979e-02, 3.19564751e-33, 9.86239016e-01, 3.37209564e-34],\n",
       "       [1.76318543e-10, 1.69621883e-09, 1.72300564e-17, 1.00000000e+00],\n",
       "       [7.60474017e-35, 3.19954087e-27, 1.98174641e-31, 1.00000000e+00],\n",
       "       [1.00000000e+00, 0.00000000e+00, 2.00891270e-30, 2.70861306e-12],\n",
       "       [2.14759130e-23, 1.00000000e+00, 4.88588911e-19, 8.01468825e-30],\n",
       "       [0.00000000e+00, 1.00000000e+00, 0.00000000e+00, 1.24946474e-34],\n",
       "       [6.94799104e-15, 9.59223807e-01, 5.82828002e-13, 4.07762080e-02],\n",
       "       [6.53383759e-05, 3.68504110e-03, 9.96249616e-01, 4.18555038e-20],\n",
       "       [4.31172527e-18, 3.12532415e-03, 7.56195046e-32, 9.96874690e-01],\n",
       "       [5.66445969e-29, 3.62370309e-34, 3.77024423e-17, 1.00000000e+00],\n",
       "       [5.10667585e-11, 6.01692809e-26, 1.00000000e+00, 0.00000000e+00],\n",
       "       [5.99081531e-08, 9.99999881e-01, 0.00000000e+00, 1.46840128e-15],\n",
       "       [4.79055309e-24, 1.00000000e+00, 3.23558704e-21, 9.10802670e-15],\n",
       "       [1.65203151e-09, 1.00000000e+00, 4.57549007e-30, 1.34905844e-32],\n",
       "       [0.00000000e+00, 1.00000000e+00, 0.00000000e+00, 0.00000000e+00],\n",
       "       [3.12601662e-29, 1.00000000e+00, 0.00000000e+00, 4.81552606e-24],\n",
       "       [4.52612363e-28, 5.05320800e-27, 3.03046981e-25, 1.00000000e+00],\n",
       "       [1.12947834e-23, 9.65980113e-01, 1.16836371e-22, 3.40199172e-02],\n",
       "       [8.48203886e-15, 1.00000000e+00, 9.79463451e-28, 7.17583076e-11],\n",
       "       [5.39112819e-35, 0.00000000e+00, 1.00000000e+00, 0.00000000e+00],\n",
       "       [8.83150686e-15, 1.00000000e+00, 4.68487412e-36, 5.55463869e-31],\n",
       "       [4.79162811e-15, 9.99849796e-01, 1.36741919e-05, 1.36555231e-04],\n",
       "       [1.83062920e-23, 1.00000000e+00, 3.82837351e-33, 2.27423810e-20],\n",
       "       [6.64438998e-36, 0.00000000e+00, 1.00000000e+00, 0.00000000e+00],\n",
       "       [4.22999576e-35, 1.00000000e+00, 0.00000000e+00, 1.79066353e-19],\n",
       "       [2.84496741e-22, 0.00000000e+00, 1.00000000e+00, 1.30034116e-30],\n",
       "       [4.94610192e-20, 0.00000000e+00, 1.00000000e+00, 1.68957907e-29],\n",
       "       [2.64137205e-37, 1.00000000e+00, 6.47316485e-36, 5.01015970e-33],\n",
       "       [1.29689835e-11, 2.56646781e-17, 1.00000000e+00, 9.93772280e-36],\n",
       "       [2.95744635e-18, 1.00000000e+00, 1.24600062e-25, 6.97547556e-14],\n",
       "       [0.00000000e+00, 1.00000000e+00, 1.69012615e-30, 8.23071851e-20],\n",
       "       [4.67695084e-11, 9.99999762e-01, 2.48264482e-30, 2.05946364e-07],\n",
       "       [1.26550489e-11, 3.02163754e-02, 4.59328017e-19, 9.69783604e-01],\n",
       "       [1.00000000e+00, 0.00000000e+00, 0.00000000e+00, 0.00000000e+00],\n",
       "       [3.21946051e-12, 1.00000000e+00, 1.27849276e-30, 1.19427675e-13],\n",
       "       [2.65537302e-23, 1.00000000e+00, 4.97136501e-16, 2.67419842e-16],\n",
       "       [5.06774827e-33, 1.39928751e-17, 3.54481104e-28, 1.00000000e+00],\n",
       "       [5.13447260e-18, 7.27951252e-33, 1.00000000e+00, 6.66604881e-35],\n",
       "       [7.77513021e-22, 1.49171997e-21, 3.70539843e-09, 1.00000000e+00],\n",
       "       [1.00000000e+00, 9.44263327e-31, 1.18365832e-37, 0.00000000e+00],\n",
       "       [2.56191159e-38, 0.00000000e+00, 1.00000000e+00, 0.00000000e+00],\n",
       "       [1.95288682e-28, 1.00000000e+00, 0.00000000e+00, 1.81623307e-28],\n",
       "       [4.89567100e-13, 6.16619444e-27, 1.32768913e-22, 1.00000000e+00],\n",
       "       [9.99979854e-01, 4.71832029e-20, 2.00943814e-05, 1.10211905e-24],\n",
       "       [1.00000000e+00, 0.00000000e+00, 0.00000000e+00, 0.00000000e+00],\n",
       "       [2.13990942e-18, 1.00000000e+00, 2.76679674e-27, 8.02752561e-26],\n",
       "       [9.99999523e-01, 6.68326982e-24, 2.76812995e-09, 4.93294237e-07],\n",
       "       [1.28874486e-32, 0.00000000e+00, 1.35159281e-32, 1.00000000e+00],\n",
       "       [0.00000000e+00, 1.00000000e+00, 6.28965759e-35, 5.58530646e-21],\n",
       "       [8.51924378e-35, 1.00000000e+00, 0.00000000e+00, 2.28892061e-09],\n",
       "       [1.79061186e-23, 8.08834555e-10, 1.03556710e-32, 1.00000000e+00],\n",
       "       [0.00000000e+00, 1.09463387e-22, 2.86751023e-37, 1.00000000e+00],\n",
       "       [7.05114573e-22, 0.00000000e+00, 1.00000000e+00, 5.62751558e-24],\n",
       "       [1.27479801e-20, 1.00000000e+00, 7.30020796e-24, 6.26611326e-21],\n",
       "       [1.00000000e+00, 0.00000000e+00, 1.21097141e-35, 6.93096669e-33],\n",
       "       [3.93757174e-36, 1.00000000e+00, 4.71196722e-31, 0.00000000e+00],\n",
       "       [1.00000000e+00, 0.00000000e+00, 2.13830051e-27, 0.00000000e+00],\n",
       "       [1.00000000e+00, 0.00000000e+00, 3.25764468e-36, 2.25237796e-27],\n",
       "       [8.69334045e-08, 9.99999881e-01, 1.72067801e-27, 7.94166408e-33],\n",
       "       [1.24819026e-08, 5.97851736e-17, 6.62287070e-09, 1.00000000e+00],\n",
       "       [1.94125495e-36, 1.00000000e+00, 3.04062821e-38, 2.84020470e-16],\n",
       "       [1.70023077e-18, 6.20287878e-35, 1.00000000e+00, 0.00000000e+00],\n",
       "       [2.83738111e-29, 1.00000000e+00, 1.41964365e-24, 9.35106900e-19],\n",
       "       [3.59774413e-24, 1.00000000e+00, 0.00000000e+00, 5.60024941e-33],\n",
       "       [2.92462021e-25, 1.00000000e+00, 5.52611029e-15, 3.47190159e-13],\n",
       "       [1.11900114e-07, 9.99999881e-01, 0.00000000e+00, 5.26851546e-19],\n",
       "       [3.33410515e-23, 6.87044600e-26, 1.00000000e+00, 5.35633868e-36],\n",
       "       [1.00000000e+00, 0.00000000e+00, 8.91914851e-14, 1.43901489e-18],\n",
       "       [1.00000000e+00, 0.00000000e+00, 0.00000000e+00, 0.00000000e+00],\n",
       "       [1.00000000e+00, 0.00000000e+00, 7.86908885e-23, 0.00000000e+00],\n",
       "       [1.00000000e+00, 0.00000000e+00, 1.19230489e-37, 0.00000000e+00],\n",
       "       [2.81397514e-17, 7.13244954e-04, 9.99286830e-01, 0.00000000e+00],\n",
       "       [3.42117236e-17, 1.00000000e+00, 4.97332747e-20, 0.00000000e+00],\n",
       "       [5.58082566e-24, 1.00000000e+00, 2.09560221e-31, 7.80537700e-31],\n",
       "       [2.43928393e-21, 7.85645852e-07, 1.79626594e-33, 9.99999166e-01],\n",
       "       [1.00000000e+00, 0.00000000e+00, 2.11931305e-28, 0.00000000e+00],\n",
       "       [2.44272869e-08, 1.87272651e-08, 1.00000000e+00, 1.08735694e-11],\n",
       "       [3.50164640e-13, 1.56187832e-01, 2.79653117e-28, 8.43812227e-01],\n",
       "       [6.62484627e-15, 3.62059971e-31, 1.00000000e+00, 0.00000000e+00],\n",
       "       [2.78116637e-20, 1.00000000e+00, 2.57987232e-35, 2.78864863e-14],\n",
       "       [1.13202193e-13, 0.00000000e+00, 1.00000000e+00, 6.54407222e-29],\n",
       "       [9.53003750e-21, 1.00000000e+00, 6.64732380e-23, 5.06558984e-23],\n",
       "       [9.90329756e-26, 1.00000000e+00, 1.78805551e-27, 3.23499205e-30],\n",
       "       [8.14149798e-36, 1.00000000e+00, 0.00000000e+00, 2.01058199e-32],\n",
       "       [9.68390584e-01, 8.62926228e-30, 3.16094272e-02, 1.17553140e-30],\n",
       "       [1.00000000e+00, 0.00000000e+00, 0.00000000e+00, 0.00000000e+00],\n",
       "       [0.00000000e+00, 1.86635730e-31, 0.00000000e+00, 1.00000000e+00],\n",
       "       [1.41039242e-23, 1.00000000e+00, 1.46897040e-26, 8.37933282e-12],\n",
       "       [1.04572669e-17, 1.90600895e-14, 4.52826469e-04, 9.99547184e-01],\n",
       "       [7.70865607e-21, 1.00000000e+00, 1.04424273e-17, 8.72040070e-14],\n",
       "       [3.95164079e-06, 3.58357515e-27, 9.99996066e-01, 3.22393721e-25],\n",
       "       [6.24981292e-27, 1.00000000e+00, 5.84981355e-32, 2.39376573e-22],\n",
       "       [9.83707537e-17, 1.00000000e+00, 5.08022233e-22, 1.27086020e-35],\n",
       "       [1.63394486e-30, 1.00000000e+00, 2.08259911e-36, 3.94377975e-10],\n",
       "       [2.02506545e-20, 1.00000000e+00, 1.13433116e-34, 4.12091074e-20],\n",
       "       [1.00000000e+00, 0.00000000e+00, 1.80024609e-33, 0.00000000e+00],\n",
       "       [7.14847956e-23, 1.00000000e+00, 1.66008108e-30, 8.91648734e-12],\n",
       "       [3.47811219e-24, 4.32559651e-15, 4.40818853e-29, 1.00000000e+00],\n",
       "       [1.26237970e-36, 7.29964365e-26, 3.75750681e-18, 1.00000000e+00],\n",
       "       [6.57924531e-20, 1.00000000e+00, 4.24710457e-19, 3.61235902e-11],\n",
       "       [4.08207752e-20, 1.00000000e+00, 2.00510718e-38, 4.22763610e-22],\n",
       "       [3.42448483e-19, 9.99999881e-01, 5.86724273e-14, 1.25621568e-07],\n",
       "       [2.97532755e-24, 0.00000000e+00, 1.00000000e+00, 3.90641570e-17],\n",
       "       [1.00000000e+00, 2.34419524e-26, 0.00000000e+00, 2.38450496e-38],\n",
       "       [1.79764077e-23, 2.12726441e-08, 3.24701033e-37, 1.00000000e+00],\n",
       "       [1.00000000e+00, 0.00000000e+00, 7.87839354e-32, 0.00000000e+00],\n",
       "       [3.18441691e-20, 1.63257569e-02, 1.93933244e-19, 9.83674288e-01],\n",
       "       [5.89304205e-09, 9.99999881e-01, 3.68668474e-26, 1.00963646e-07],\n",
       "       [0.00000000e+00, 1.00000000e+00, 0.00000000e+00, 0.00000000e+00],\n",
       "       [3.15350556e-13, 0.00000000e+00, 1.00000000e+00, 0.00000000e+00],\n",
       "       [1.00000000e+00, 0.00000000e+00, 5.84181737e-29, 7.99737980e-28],\n",
       "       [3.04479046e-11, 1.00000000e+00, 6.62182220e-09, 3.33277309e-21],\n",
       "       [4.59181654e-32, 1.00000000e+00, 0.00000000e+00, 0.00000000e+00],\n",
       "       [9.11146641e-01, 8.73010233e-02, 1.08224634e-19, 1.55235850e-03],\n",
       "       [1.28327642e-07, 1.85478430e-35, 9.99999881e-01, 2.82524143e-10],\n",
       "       [1.69730385e-38, 1.60229633e-33, 4.99415753e-30, 1.00000000e+00],\n",
       "       [1.20708998e-13, 1.00000000e+00, 1.77994195e-36, 1.38859558e-30],\n",
       "       [7.55044492e-15, 1.00000000e+00, 1.18171203e-25, 5.07533293e-10],\n",
       "       [1.00000000e+00, 5.63921661e-35, 6.79157436e-17, 0.00000000e+00],\n",
       "       [9.99999404e-01, 2.11973714e-16, 6.14057399e-07, 5.50121166e-27],\n",
       "       [3.35470057e-28, 1.00000000e+00, 2.74633666e-25, 1.99323220e-24],\n",
       "       [1.00000000e+00, 6.54311879e-38, 1.06294045e-11, 1.85115522e-31],\n",
       "       [2.64244518e-13, 9.99999166e-01, 2.87247136e-27, 8.12618168e-07],\n",
       "       [7.99236025e-11, 9.91995096e-01, 7.59437587e-03, 4.10515000e-04],\n",
       "       [4.46280357e-15, 1.00000000e+00, 2.11918636e-33, 3.30895557e-37],\n",
       "       [2.46628068e-20, 1.00000000e+00, 8.92538811e-23, 1.65648206e-22],\n",
       "       [4.11060600e-15, 1.92988367e-29, 1.07943047e-33, 1.00000000e+00],\n",
       "       [3.70151619e-15, 1.00000000e+00, 1.33072134e-37, 3.30983264e-26],\n",
       "       [3.20322198e-12, 2.01556233e-07, 2.11695599e-18, 9.99999762e-01],\n",
       "       [2.42661117e-11, 1.00000000e+00, 2.18864553e-12, 3.59288983e-16],\n",
       "       [2.13932240e-16, 7.58422971e-07, 8.99045103e-29, 9.99999285e-01],\n",
       "       [5.85450854e-11, 1.00000000e+00, 8.49378172e-25, 1.91063859e-16],\n",
       "       [1.93661043e-28, 1.00000000e+00, 2.00274759e-28, 1.63804224e-26],\n",
       "       [8.26896130e-25, 2.72392601e-01, 6.77995923e-21, 7.27607369e-01],\n",
       "       [7.25429152e-24, 2.47289158e-37, 1.00000000e+00, 1.19274164e-37],\n",
       "       [9.99998450e-01, 2.82962881e-20, 5.29665003e-30, 1.53049871e-06],\n",
       "       [7.06098303e-26, 0.00000000e+00, 1.00000000e+00, 3.10585188e-25],\n",
       "       [2.15507496e-16, 7.41058744e-13, 2.50591917e-37, 1.00000000e+00],\n",
       "       [5.15830616e-18, 8.93397107e-38, 1.00000000e+00, 1.33401904e-38],\n",
       "       [1.00000000e+00, 0.00000000e+00, 0.00000000e+00, 4.82793787e-33],\n",
       "       [1.40888700e-21, 9.99999166e-01, 0.00000000e+00, 7.90433035e-07],\n",
       "       [4.52390011e-34, 1.00000000e+00, 5.49648708e-30, 9.65479825e-32],\n",
       "       [1.15737095e-18, 2.94293154e-16, 1.00000000e+00, 6.14073343e-17],\n",
       "       [1.00000000e+00, 0.00000000e+00, 1.60680297e-16, 0.00000000e+00],\n",
       "       [0.00000000e+00, 3.91322695e-27, 1.00000000e+00, 8.04726240e-13],\n",
       "       [0.00000000e+00, 4.07107774e-30, 3.39635225e-30, 1.00000000e+00],\n",
       "       [9.99454796e-01, 4.41753310e-36, 5.45189308e-04, 0.00000000e+00],\n",
       "       [4.10136904e-13, 7.37308365e-17, 1.00000000e+00, 2.07028151e-14],\n",
       "       [2.63532857e-18, 0.00000000e+00, 1.00000000e+00, 4.83394042e-35],\n",
       "       [3.73934708e-33, 1.00000000e+00, 5.10061449e-36, 0.00000000e+00]],\n",
       "      dtype=float32)"
      ]
     },
     "execution_count": 29,
     "metadata": {},
     "output_type": "execute_result"
    }
   ],
   "source": [
    "y_pred"
   ]
  },
  {
   "cell_type": "code",
   "execution_count": 30,
   "metadata": {},
   "outputs": [],
   "source": [
    "import numpy as np\n",
    "y_pred = np.argmax(y_pred, axis=1)"
   ]
  },
  {
   "cell_type": "code",
   "execution_count": 31,
   "metadata": {},
   "outputs": [
    {
     "data": {
      "text/plain": [
       "array([1, 1, 3, 1, 1, 1, 2, 0, 0, 3, 2, 1, 0, 3, 3, 1, 2, 2, 1, 0, 3, 1,\n",
       "       1, 1, 1, 1, 2, 3, 0, 1, 1, 2, 1, 1, 2, 2, 1, 2, 1, 1, 0, 2, 2, 3,\n",
       "       1, 1, 2, 3, 3, 0, 1, 1, 1, 2, 3, 3, 2, 1, 1, 1, 1, 1, 3, 1, 1, 2,\n",
       "       1, 1, 1, 2, 1, 2, 2, 1, 2, 1, 1, 1, 3, 0, 1, 1, 3, 2, 3, 0, 2, 1,\n",
       "       3, 0, 0, 1, 0, 3, 1, 1, 3, 3, 2, 1, 0, 1, 0, 0, 1, 3, 1, 2, 1, 1,\n",
       "       1, 1, 2, 0, 0, 0, 0, 2, 1, 1, 3, 0, 2, 3, 2, 1, 2, 1, 1, 1, 0, 0,\n",
       "       3, 1, 3, 1, 2, 1, 1, 1, 1, 0, 1, 3, 3, 1, 1, 1, 2, 0, 3, 0, 3, 1,\n",
       "       1, 2, 0, 1, 1, 0, 2, 3, 1, 1, 0, 0, 1, 0, 1, 1, 1, 1, 3, 1, 3, 1,\n",
       "       3, 1, 1, 3, 2, 0, 2, 3, 2, 0, 1, 1, 2, 0, 2, 3, 0, 2, 2, 1],\n",
       "      dtype=int64)"
      ]
     },
     "execution_count": 31,
     "metadata": {},
     "output_type": "execute_result"
    }
   ],
   "source": [
    "y_pred"
   ]
  }
 ],
 "metadata": {
  "kernelspec": {
   "display_name": "tf25",
   "language": "python",
   "name": "tf25"
  },
  "language_info": {
   "codemirror_mode": {
    "name": "ipython",
    "version": 3
   },
   "file_extension": ".py",
   "mimetype": "text/x-python",
   "name": "python",
   "nbconvert_exporter": "python",
   "pygments_lexer": "ipython3",
   "version": "3.8.10"
  }
 },
 "nbformat": 4,
 "nbformat_minor": 4
}
